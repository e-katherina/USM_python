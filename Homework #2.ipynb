{
 "cells": [
  {
   "cell_type": "code",
   "execution_count": 6,
   "metadata": {},
   "outputs": [],
   "source": [
    "import sympy as sm\n",
    "import scipy as sp"
   ]
  },
  {
   "cell_type": "code",
   "execution_count": 2,
   "metadata": {},
   "outputs": [],
   "source": [
    "sm.init_printing()"
   ]
  },
  {
   "cell_type": "markdown",
   "metadata": {},
   "source": [
    "### Calculate determinat"
   ]
  },
  {
   "cell_type": "code",
   "execution_count": 3,
   "metadata": {},
   "outputs": [],
   "source": [
    "m11, m12, m13, m14, m21, m22, m23, m24, m31, m32, m33, m34, m41, m42, m43, m44 \\\n",
    "= sm.symbols(\"m11, m12, m13, m14, m21, m22, m23, m24, m31, m32, m33, m34, m41, m42, m43, m44\")"
   ]
  },
  {
   "cell_type": "code",
   "execution_count": 4,
   "metadata": {},
   "outputs": [],
   "source": [
    "A = sm.Matrix([[m11, m12, m13, m14], \n",
    "               [m21, m22, m23, m24], \n",
    "               [m31, m32, m33, m34],\n",
    "               [m41, m42, m43, m44]])"
   ]
  },
  {
   "cell_type": "code",
   "execution_count": 5,
   "metadata": {},
   "outputs": [
    {
     "data": {
      "image/png": "[encoded data removed]",
      "text/latex": [
       "$\\displaystyle m_{11} m_{22} m_{33} m_{44} - m_{11} m_{22} m_{34} m_{43} - m_{11} m_{23} m_{32} m_{44} + m_{11} m_{23} m_{34} m_{42} + m_{11} m_{24} m_{32} m_{43} - m_{11} m_{24} m_{33} m_{42} - m_{12} m_{21} m_{33} m_{44} + m_{12} m_{21} m_{34} m_{43} + m_{12} m_{23} m_{31} m_{44} - m_{12} m_{23} m_{34} m_{41} - m_{12} m_{24} m_{31} m_{43} + m_{12} m_{24} m_{33} m_{41} + m_{13} m_{21} m_{32} m_{44} - m_{13} m_{21} m_{34} m_{42} - m_{13} m_{22} m_{31} m_{44} + m_{13} m_{22} m_{34} m_{41} + m_{13} m_{24} m_{31} m_{42} - m_{13} m_{24} m_{32} m_{41} - m_{14} m_{21} m_{32} m_{43} + m_{14} m_{21} m_{33} m_{42} + m_{14} m_{22} m_{31} m_{43} - m_{14} m_{22} m_{33} m_{41} - m_{14} m_{23} m_{31} m_{42} + m_{14} m_{23} m_{32} m_{41}$"
      ],
      "text/plain": [
       "m₁₁⋅m₂₂⋅m₃₃⋅m₄₄ - m₁₁⋅m₂₂⋅m₃₄⋅m₄₃ - m₁₁⋅m₂₃⋅m₃₂⋅m₄₄ + m₁₁⋅m₂₃⋅m₃₄⋅m₄₂ + m₁₁⋅m₂\n",
       "₄⋅m₃₂⋅m₄₃ - m₁₁⋅m₂₄⋅m₃₃⋅m₄₂ - m₁₂⋅m₂₁⋅m₃₃⋅m₄₄ + m₁₂⋅m₂₁⋅m₃₄⋅m₄₃ + m₁₂⋅m₂₃⋅m₃₁⋅\n",
       "m₄₄ - m₁₂⋅m₂₃⋅m₃₄⋅m₄₁ - m₁₂⋅m₂₄⋅m₃₁⋅m₄₃ + m₁₂⋅m₂₄⋅m₃₃⋅m₄₁ + m₁₃⋅m₂₁⋅m₃₂⋅m₄₄ - \n",
       "m₁₃⋅m₂₁⋅m₃₄⋅m₄₂ - m₁₃⋅m₂₂⋅m₃₁⋅m₄₄ + m₁₃⋅m₂₂⋅m₃₄⋅m₄₁ + m₁₃⋅m₂₄⋅m₃₁⋅m₄₂ - m₁₃⋅m₂\n",
       "₄⋅m₃₂⋅m₄₁ - m₁₄⋅m₂₁⋅m₃₂⋅m₄₃ + m₁₄⋅m₂₁⋅m₃₃⋅m₄₂ + m₁₄⋅m₂₂⋅m₃₁⋅m₄₃ - m₁₄⋅m₂₂⋅m₃₃⋅\n",
       "m₄₁ - m₁₄⋅m₂₃⋅m₃₁⋅m₄₂ + m₁₄⋅m₂₃⋅m₃₂⋅m₄₁"
      ]
     },
     "execution_count": 5,
     "metadata": {},
     "output_type": "execute_result"
    }
   ],
   "source": [
    "A.det()"
   ]
  },
  {
   "cell_type": "code",
   "execution_count": 6,
   "metadata": {},
   "outputs": [
    {
     "data": {
      "text/latex": [
       "$\\displaystyle \\left[\\begin{matrix}3 & 7 & -2 & 4\\\\-3 & -2 & 6 & -4\\\\5 & 5 & -3 & 2\\\\2 & 6 & -5 & 3\\end{matrix}\\right]$"
      ],
      "text/plain": [
       "⎡3   7   -2  4 ⎤\n",
       "⎢              ⎥\n",
       "⎢-3  -2  6   -4⎥\n",
       "⎢              ⎥\n",
       "⎢5   5   -3  2 ⎥\n",
       "⎢              ⎥\n",
       "⎣2   6   -5  3 ⎦"
      ]
     },
     "execution_count": 6,
     "metadata": {},
     "output_type": "execute_result"
    }
   ],
   "source": [
    "A_num = A.subs({m11:3, m12:7, m13:-2, m14:4, \n",
    "                m21:-3, m22:-2, m23:6, m24:-4, \n",
    "                m31:5, m32:5, m33:-3, m34:2, \n",
    "                m41:2, m42:6, m43:-5, m44:3})\n",
    "A_num"
   ]
  },
  {
   "cell_type": "code",
   "execution_count": 7,
   "metadata": {},
   "outputs": [
    {
     "data": {
      "image/png": "[encoded data removed]",
      "text/latex": [
       "$\\displaystyle -303$"
      ],
      "text/plain": [
       "-303"
      ]
     },
     "execution_count": 7,
     "metadata": {},
     "output_type": "execute_result"
    }
   ],
   "source": [
    "A_num.det()"
   ]
  },
  {
   "cell_type": "markdown",
   "metadata": {},
   "source": [
    "### Inverse matrix"
   ]
  },
  {
   "cell_type": "code",
   "execution_count": 8,
   "metadata": {},
   "outputs": [
    {
     "data": {
      "text/latex": [
       "$\\displaystyle \\left[\\begin{matrix}- \\frac{8}{303} & - \\frac{5}{101} & \\frac{82}{303} & - \\frac{64}{303}\\\\\\frac{7}{303} & \\frac{17}{101} & \\frac{4}{303} & \\frac{56}{303}\\\\\\frac{67}{303} & \\frac{4}{101} & - \\frac{5}{303} & - \\frac{70}{303}\\\\\\frac{103}{303} & - \\frac{24}{101} & - \\frac{71}{303} & - \\frac{85}{303}\\end{matrix}\\right]$"
      ],
      "text/plain": [
       "⎡                  82    -64 ⎤\n",
       "⎢-8/303  -5/101   ───    ────⎥\n",
       "⎢                 303    303 ⎥\n",
       "⎢                            ⎥\n",
       "⎢          17             56 ⎥\n",
       "⎢7/303    ───    4/303   ─── ⎥\n",
       "⎢         101            303 ⎥\n",
       "⎢                            ⎥\n",
       "⎢  67                    -70 ⎥\n",
       "⎢ ───    4/101   -5/303  ────⎥\n",
       "⎢ 303                    303 ⎥\n",
       "⎢                            ⎥\n",
       "⎢ 103     -24     -71    -85 ⎥\n",
       "⎢ ───     ────    ────   ────⎥\n",
       "⎣ 303     101     303    303 ⎦"
      ]
     },
     "execution_count": 8,
     "metadata": {},
     "output_type": "execute_result"
    }
   ],
   "source": [
    "A_num.inv()"
   ]
  },
  {
   "cell_type": "markdown",
   "metadata": {},
   "source": [
    "### Systems of equations"
   ]
  },
  {
   "cell_type": "code",
   "execution_count": 9,
   "metadata": {},
   "outputs": [],
   "source": [
    "x1, x2, x3, x4 = sm.symbols(\"x1, x2, x3, x4\")"
   ]
  },
  {
   "cell_type": "code",
   "execution_count": 10,
   "metadata": {},
   "outputs": [
    {
     "data": {
      "image/png": "[encoded data removed]",
      "text/latex": [
       "$\\displaystyle \\left\\{ x_{1} : - \\frac{14 x_{3}}{11} + \\frac{2 x_{4}}{11} + \\frac{1}{11}, \\  x_{2} : - \\frac{6 x_{3}}{11} - \\frac{7 x_{4}}{11} + \\frac{2}{11}\\right\\}$"
      ],
      "text/plain": [
       "⎧      14⋅x₃   2⋅x₄   1         6⋅x₃   7⋅x₄   2 ⎫\n",
       "⎨x₁: - ───── + ──── + ──, x₂: - ──── - ──── + ──⎬\n",
       "⎩        11     11    11         11     11    11⎭"
      ]
     },
     "execution_count": 10,
     "metadata": {},
     "output_type": "execute_result"
    }
   ],
   "source": [
    "sm.solve([x1 + 5*x2 + 4*x3 + 3*x4 - 1, \n",
    "         2*x1 - x2 + 2*x3 - x4, \n",
    "         5*x1 + 3*x2 + 8*x3 + x4 - 1], \n",
    "         [x1, x2, x3, x4])"
   ]
  },
  {
   "cell_type": "code",
   "execution_count": 11,
   "metadata": {},
   "outputs": [
    {
     "data": {
      "image/png": "[encoded data removed]",
      "text/latex": [
       "$\\displaystyle \\left\\{ x_{1} : \\frac{12 x_{4}}{13} + \\frac{1}{13}, \\  x_{2} : \\frac{15 x_{4}}{13} - \\frac{2}{13}, \\  x_{3} : \\frac{20 x_{4}}{13} - \\frac{7}{13}\\right\\}$"
      ],
      "text/plain": [
       "⎧    12⋅x₄   1       15⋅x₄   2       20⋅x₄   7 ⎫\n",
       "⎨x₁: ───── + ──, x₂: ───── - ──, x₃: ───── - ──⎬\n",
       "⎩      13    13        13    13        13    13⎭"
      ]
     },
     "execution_count": 11,
     "metadata": {},
     "output_type": "execute_result"
    }
   ],
   "source": [
    "sm.solve([x1 + x2 - 2*x3 + x4 - 1, \n",
    "          x1 - 3*x2 + x3 + x4, \n",
    "          4*x1 - x2 - x3 - x4 - 1,\n",
    "          4*x1 + 3*x2 - 4*x3 - x4 - 2], [x1, x2, x3, x4])"
   ]
  },
  {
   "cell_type": "markdown",
   "metadata": {},
   "source": [
    "### Limits"
   ]
  },
  {
   "cell_type": "code",
   "execution_count": 12,
   "metadata": {},
   "outputs": [],
   "source": [
    "x, y, b, c = sm.symbols(\"x, y, b, c\")"
   ]
  },
  {
   "cell_type": "code",
   "execution_count": 13,
   "metadata": {},
   "outputs": [],
   "source": [
    "f_1 = (1 - sm.cos(5*x))/(x**2)"
   ]
  },
  {
   "cell_type": "code",
   "execution_count": 14,
   "metadata": {},
   "outputs": [
    {
     "data": {
      "image/png": "[encoded data removed]",
      "text/latex": [
       "$\\displaystyle \\frac{25}{2}$"
      ],
      "text/plain": [
       "25/2"
      ]
     },
     "execution_count": 14,
     "metadata": {},
     "output_type": "execute_result"
    }
   ],
   "source": [
    "sm.limit(f_1, x, 0)"
   ]
  },
  {
   "cell_type": "code",
   "execution_count": 15,
   "metadata": {},
   "outputs": [],
   "source": [
    "f_2 = ((x+1)/(x+b))**(x+c)"
   ]
  },
  {
   "cell_type": "code",
   "execution_count": 16,
   "metadata": {},
   "outputs": [
    {
     "data": {
      "image/png": "[encoded data removed]",
      "text/latex": [
       "$\\displaystyle 0$"
      ],
      "text/plain": [
       "0"
      ]
     },
     "execution_count": 16,
     "metadata": {},
     "output_type": "execute_result"
    }
   ],
   "source": [
    "sm.limit(f_1, x, sm.oo)"
   ]
  },
  {
   "cell_type": "markdown",
   "metadata": {},
   "source": [
    "### Derivatives"
   ]
  },
  {
   "cell_type": "code",
   "execution_count": 17,
   "metadata": {},
   "outputs": [],
   "source": [
    "a, b = sm.symbols(\"a, b\")"
   ]
  },
  {
   "cell_type": "code",
   "execution_count": 18,
   "metadata": {},
   "outputs": [
    {
     "data": {
      "image/png": "[encoded data removed]",
      "text/latex": [
       "$\\displaystyle \\left(\\frac{\\operatorname{asin}{\\left(x \\right)}}{x}\\right)^{x^{3}} \\left(\\frac{x^{4} \\left(\\frac{1}{x \\sqrt{1 - x^{2}}} - \\frac{\\operatorname{asin}{\\left(x \\right)}}{x^{2}}\\right)}{\\operatorname{asin}{\\left(x \\right)}} + 3 x^{2} \\log{\\left(\\frac{\\operatorname{asin}{\\left(x \\right)}}{x} \\right)}\\right)$"
      ],
      "text/plain": [
       "              ⎛ 4 ⎛      1         asin(x)⎞                    ⎞\n",
       "              ⎜x ⋅⎜───────────── - ───────⎟                    ⎟\n",
       "         ⎛ 3⎞ ⎜   ⎜     ________       2  ⎟                    ⎟\n",
       "         ⎝x ⎠ ⎜   ⎜    ╱      2       x   ⎟                    ⎟\n",
       "⎛asin(x)⎞     ⎜   ⎝x⋅╲╱  1 - x            ⎠      2    ⎛asin(x)⎞⎟\n",
       "⎜───────⎟    ⋅⎜──────────────────────────── + 3⋅x ⋅log⎜───────⎟⎟\n",
       "⎝   x   ⎠     ⎝          asin(x)                      ⎝   x   ⎠⎠"
      ]
     },
     "execution_count": 18,
     "metadata": {},
     "output_type": "execute_result"
    }
   ],
   "source": [
    "sm.diff ((sm.asin(x)/x)**(x**3), x)"
   ]
  },
  {
   "cell_type": "code",
   "execution_count": 19,
   "metadata": {},
   "outputs": [
    {
     "data": {
      "image/png": "[encoded data removed]",
      "text/latex": [
       "$\\displaystyle \\frac{\\frac{\\left(a + \\sin{\\left(x \\right)}\\right) \\left(- \\tan^{2}{\\left(x \\right)} - 1\\right)}{2 \\tan^{2}{\\left(x \\right)}} + \\frac{\\cos{\\left(x \\right)}}{2 \\tan{\\left(x \\right)}}}{- b + \\frac{a + \\sin{\\left(x \\right)}}{\\tan{\\left(x \\right)}}}$"
      ],
      "text/plain": [
       "             ⎛     2       ⎞           \n",
       "(a + sin(x))⋅⎝- tan (x) - 1⎠    cos(x) \n",
       "──────────────────────────── + ────────\n",
       "              2                2⋅tan(x)\n",
       "         2⋅tan (x)                     \n",
       "───────────────────────────────────────\n",
       "                 a + sin(x)            \n",
       "            -b + ──────────            \n",
       "                   tan(x)              "
      ]
     },
     "execution_count": 19,
     "metadata": {},
     "output_type": "execute_result"
    }
   ],
   "source": [
    "sm.diff ((sm.ln(sm.sqrt((a+sm.sin(x))/sm.tan(x)-b))), x)"
   ]
  },
  {
   "cell_type": "markdown",
   "metadata": {},
   "source": [
    "### Mixed partial derivatives"
   ]
  },
  {
   "cell_type": "code",
   "execution_count": 20,
   "metadata": {},
   "outputs": [],
   "source": [
    "n = sm.Symbol(\"n\")"
   ]
  },
  {
   "cell_type": "code",
   "execution_count": 21,
   "metadata": {},
   "outputs": [],
   "source": [
    "f1 = x**(2*n)*sm.sin(y)"
   ]
  },
  {
   "cell_type": "code",
   "execution_count": 22,
   "metadata": {},
   "outputs": [],
   "source": [
    "f2 = (sm.E**y)*sm.sin(n*x**2)"
   ]
  },
  {
   "cell_type": "code",
   "execution_count": 23,
   "metadata": {},
   "outputs": [
    {
     "data": {
      "image/png": "[encoded data removed]",
      "text/latex": [
       "$\\displaystyle - \\frac{2 n x^{2 n} \\left(2 n - 1\\right) \\cos{\\left(y \\right)}}{x^{2}}$"
      ],
      "text/plain": [
       "      2⋅n                  \n",
       "-2⋅n⋅x   ⋅(2⋅n - 1)⋅cos(y) \n",
       "───────────────────────────\n",
       "              2            \n",
       "             x             "
      ]
     },
     "execution_count": 23,
     "metadata": {},
     "output_type": "execute_result"
    }
   ],
   "source": [
    "sm.diff (f1, x, 2, y, 3)"
   ]
  },
  {
   "cell_type": "code",
   "execution_count": 24,
   "metadata": {},
   "outputs": [
    {
     "data": {
      "image/png": "[encoded data removed]",
      "text/latex": [
       "$\\displaystyle - 2 n \\left(2 n x^{2} \\sin{\\left(n x^{2} \\right)} - \\cos{\\left(n x^{2} \\right)}\\right) e^{y}$"
      ],
      "text/plain": [
       "     ⎛     2    ⎛   2⎞      ⎛   2⎞⎞  y\n",
       "-2⋅n⋅⎝2⋅n⋅x ⋅sin⎝n⋅x ⎠ - cos⎝n⋅x ⎠⎠⋅ℯ "
      ]
     },
     "execution_count": 24,
     "metadata": {},
     "output_type": "execute_result"
    }
   ],
   "source": [
    "sm.diff (f2, x, 2, y, 3)"
   ]
  },
  {
   "cell_type": "markdown",
   "metadata": {},
   "source": [
    "### Integrals"
   ]
  },
  {
   "cell_type": "code",
   "execution_count": 25,
   "metadata": {},
   "outputs": [],
   "source": [
    "r = sm.Symbol (\"r\")"
   ]
  },
  {
   "cell_type": "code",
   "execution_count": 26,
   "metadata": {},
   "outputs": [
    {
     "data": {
      "image/png": "[encoded data removed]",
      "text/latex": [
       "$\\displaystyle \\sqrt{r^{2} - x^{2}}$"
      ],
      "text/plain": [
       "   _________\n",
       "  ╱  2    2 \n",
       "╲╱  r  - x  "
      ]
     },
     "execution_count": 26,
     "metadata": {},
     "output_type": "execute_result"
    }
   ],
   "source": [
    "f = (sm.sin(sm.cbrt(x)))/sm.cbrt(x**2)\n",
    "g = sm.sqrt(r**2 - x**2, x)\n",
    "g"
   ]
  },
  {
   "cell_type": "code",
   "execution_count": 27,
   "metadata": {},
   "outputs": [
    {
     "data": {
      "image/png": "[encoded data removed]",
      "text/latex": [
       "$\\displaystyle - \\frac{3 x^{\\frac{2}{3}} \\cos{\\left(\\sqrt[3]{x} \\right)}}{\\sqrt[3]{x^{2}}}$"
      ],
      "text/plain": [
       "    2/3    ⎛3 ___⎞ \n",
       "-3⋅x   ⋅cos⎝╲╱ x ⎠ \n",
       "───────────────────\n",
       "         ____      \n",
       "      3 ╱  2       \n",
       "      ╲╱  x        "
      ]
     },
     "execution_count": 27,
     "metadata": {},
     "output_type": "execute_result"
    }
   ],
   "source": [
    "sm.integrate (f, x)"
   ]
  },
  {
   "cell_type": "code",
   "execution_count": 28,
   "metadata": {},
   "outputs": [
    {
     "data": {
      "text/latex": [
       "$\\displaystyle \\begin{cases} - \\int\\limits_{r}^{0} \\begin{cases} - \\frac{i r}{\\sqrt{-1 + \\frac{x^{2}}{r^{2}}}} + \\frac{3 i x^{2}}{2 r \\sqrt{-1 + \\frac{x^{2}}{r^{2}}}} + \\frac{i x^{2}}{2 r \\left(-1 + \\frac{x^{2}}{r^{2}}\\right)^{\\frac{3}{2}}} - \\frac{i x^{4}}{2 r^{3} \\left(-1 + \\frac{x^{2}}{r^{2}}\\right)^{\\frac{3}{2}}} & \\text{for}\\: \\frac{\\left|{x^{2}}\\right|}{r^{2}} > 1 \\\\\\frac{r \\sqrt{1 - \\frac{x^{2}}{r^{2}}}}{2} + \\frac{r}{2 \\sqrt{1 - \\frac{x^{2}}{r^{2}}}} - \\frac{x^{2}}{2 r \\sqrt{1 - \\frac{x^{2}}{r^{2}}}} & \\text{otherwise} \\end{cases}\\, dx & \\text{for}\\: r < 0 \\\\\\int\\limits_{0}^{r} \\begin{cases} - \\frac{i r}{\\sqrt{-1 + \\frac{x^{2}}{r^{2}}}} + \\frac{3 i x^{2}}{2 r \\sqrt{-1 + \\frac{x^{2}}{r^{2}}}} + \\frac{i x^{2}}{2 r \\left(-1 + \\frac{x^{2}}{r^{2}}\\right)^{\\frac{3}{2}}} - \\frac{i x^{4}}{2 r^{3} \\left(-1 + \\frac{x^{2}}{r^{2}}\\right)^{\\frac{3}{2}}} & \\text{for}\\: \\frac{\\left|{x^{2}}\\right|}{r^{2}} > 1 \\\\\\frac{r \\sqrt{1 - \\frac{x^{2}}{r^{2}}}}{2} + \\frac{r}{2 \\sqrt{1 - \\frac{x^{2}}{r^{2}}}} - \\frac{x^{2}}{2 r \\sqrt{1 - \\frac{x^{2}}{r^{2}}}} & \\text{otherwise} \\end{cases}\\, dx & \\text{otherwise} \\end{cases}$"
      ],
      "text/plain": [
       "⎧ 0                                                                           \n",
       "⎪ ⌠                                                                           \n",
       "⎪ ⎮ ⎧                                2                  2                   4 \n",
       "⎪ ⎮ ⎪        ⅈ⋅r                3⋅ⅈ⋅x                ⅈ⋅x                 ⅈ⋅x  \n",
       "⎪ ⎮ ⎪- ─────────────── + ─────────────────── + ──────────────── - ────────────\n",
       "⎪ ⎮ ⎪        _________             _________                3/2               \n",
       "⎪ ⎮ ⎪       ╱       2             ╱       2        ⎛      2⎞           ⎛      \n",
       "⎪ ⎮ ⎪      ╱       x             ╱       x         ⎜     x ⎟         3 ⎜     x\n",
       "⎪ ⎮ ⎪     ╱   -1 + ──    2⋅r⋅   ╱   -1 + ──    2⋅r⋅⎜-1 + ──⎟      2⋅r ⋅⎜-1 + ─\n",
       "⎪ ⎮ ⎪    ╱          2          ╱          2        ⎜      2⎟           ⎜      \n",
       "⎪ ⎮ ⎪  ╲╱          r         ╲╱          r         ⎝     r ⎠           ⎝     r\n",
       "⎪ ⎮ ⎪                                                                         \n",
       "⎪ ⎮ ⎪                   ________                                              \n",
       "⎪-⎮ ⎨                  ╱      2                                               \n",
       "⎪ ⎮ ⎪                 ╱      x                                                \n",
       "⎪ ⎮ ⎪           r⋅   ╱   1 - ──                                               \n",
       "⎪ ⎮ ⎪               ╱         2                                2              \n",
       "⎪ ⎮ ⎪             ╲╱         r            r                   x               \n",
       "⎪ ⎮ ⎪           ──────────────── + ──────────────── - ──────────────────      \n",
       "⎪ ⎮ ⎪                  2                   ________             ________      \n",
       "⎪ ⎮ ⎪                                     ╱      2             ╱      2       \n",
       "⎪ ⎮ ⎪                                    ╱      x             ╱      x        \n",
       "⎪ ⎮ ⎪                              2⋅   ╱   1 - ──    2⋅r⋅   ╱   1 - ──       \n",
       "⎪ ⎮ ⎪                                  ╱         2          ╱         2       \n",
       "⎪ ⎮ ⎩                                ╲╱         r         ╲╱         r        \n",
       "⎪ ⌡                                                                           \n",
       "⎪ r                                                                           \n",
       "⎨                                                                             \n",
       "⎪r                                                                            \n",
       "⎪⌠                                                                            \n",
       "⎪⎮ ⎧                                2                  2                   4  \n",
       "⎪⎮ ⎪        ⅈ⋅r                3⋅ⅈ⋅x                ⅈ⋅x                 ⅈ⋅x   \n",
       "⎪⎮ ⎪- ─────────────── + ─────────────────── + ──────────────── - ─────────────\n",
       "⎪⎮ ⎪        _________             _________                3/2                \n",
       "⎪⎮ ⎪       ╱       2             ╱       2        ⎛      2⎞           ⎛      2\n",
       "⎪⎮ ⎪      ╱       x             ╱       x         ⎜     x ⎟         3 ⎜     x \n",
       "⎪⎮ ⎪     ╱   -1 + ──    2⋅r⋅   ╱   -1 + ──    2⋅r⋅⎜-1 + ──⎟      2⋅r ⋅⎜-1 + ──\n",
       "⎪⎮ ⎪    ╱          2          ╱          2        ⎜      2⎟           ⎜      2\n",
       "⎪⎮ ⎪  ╲╱          r         ╲╱          r         ⎝     r ⎠           ⎝     r \n",
       "⎪⎮ ⎪                                                                          \n",
       "⎪⎮ ⎪                   ________                                               \n",
       "⎪⎮ ⎨                  ╱      2                                                \n",
       "⎪⎮ ⎪                 ╱      x                                                 \n",
       "⎪⎮ ⎪           r⋅   ╱   1 - ──                                                \n",
       "⎪⎮ ⎪               ╱         2                                2               \n",
       "⎪⎮ ⎪             ╲╱         r            r                   x                \n",
       "⎪⎮ ⎪           ──────────────── + ──────────────── - ──────────────────       \n",
       "⎪⎮ ⎪                  2                   ________             ________       \n",
       "⎪⎮ ⎪                                     ╱      2             ╱      2        \n",
       "⎪⎮ ⎪                                    ╱      x             ╱      x         \n",
       "⎪⎮ ⎪                              2⋅   ╱   1 - ──    2⋅r⋅   ╱   1 - ──        \n",
       "⎪⎮ ⎪                                  ╱         2          ╱         2        \n",
       "⎪⎮ ⎩                                ╲╱         r         ╲╱         r         \n",
       "⎪⌡                                                                            \n",
       "⎩0                                                                            \n",
       "\n",
       "                                 \n",
       "                                 \n",
       "           │ 2│                  \n",
       "           │x │                  \n",
       "─────  for ──── > 1              \n",
       "  3/2        2                   \n",
       "2⎞          r                    \n",
       " ⎟                               \n",
       "─⎟                               \n",
       "2⎟                               \n",
       " ⎠                               \n",
       "                                 \n",
       "                                 \n",
       "                    dx  for r < 0\n",
       "                                 \n",
       "                                 \n",
       "                                 \n",
       "                                 \n",
       "        otherwise                \n",
       "                                 \n",
       "                                 \n",
       "                                 \n",
       "                                 \n",
       "                                 \n",
       "                                 \n",
       "                                 \n",
       "                                 \n",
       "                                 \n",
       "                                 \n",
       "                                 \n",
       "          │ 2│                   \n",
       "          │x │                   \n",
       "────  for ──── > 1               \n",
       " 3/2        2                    \n",
       "⎞          r                     \n",
       "⎟                                \n",
       "⎟                                \n",
       "⎟                                \n",
       "⎠                                \n",
       "                                 \n",
       "                                 \n",
       "                   dx   otherwise\n",
       "                                 \n",
       "                                 \n",
       "                                 \n",
       "                                 \n",
       "       otherwise                 \n",
       "                                 \n",
       "                                 \n",
       "                                 \n",
       "                                 \n",
       "                                 \n",
       "                                 \n",
       "                                 \n",
       "                                 "
      ]
     },
     "execution_count": 28,
     "metadata": {},
     "output_type": "execute_result"
    }
   ],
   "source": [
    "sm.integrate (g, (x, 0, r))"
   ]
  },
  {
   "cell_type": "markdown",
   "metadata": {},
   "source": [
    "### Sum and product"
   ]
  },
  {
   "cell_type": "code",
   "execution_count": 29,
   "metadata": {},
   "outputs": [],
   "source": [
    "k = sm.Symbol(\"k\")"
   ]
  },
  {
   "cell_type": "code",
   "execution_count": 30,
   "metadata": {},
   "outputs": [],
   "source": [
    "s = 1/((2*n - 1)*(2*n + 1))"
   ]
  },
  {
   "cell_type": "code",
   "execution_count": 31,
   "metadata": {},
   "outputs": [
    {
     "data": {
      "image/png": "[encoded data removed]",
      "text/latex": [
       "$\\displaystyle 0.5$"
      ],
      "text/plain": [
       "0.500000000000000"
      ]
     },
     "execution_count": 31,
     "metadata": {},
     "output_type": "execute_result"
    }
   ],
   "source": [
    "sm.Sum(s, (n, 1, sm.oo)).evalf()"
   ]
  },
  {
   "cell_type": "code",
   "execution_count": 32,
   "metadata": {},
   "outputs": [],
   "source": [
    "p = sm.sin(k)"
   ]
  },
  {
   "cell_type": "code",
   "execution_count": 33,
   "metadata": {},
   "outputs": [
    {
     "data": {
      "image/png": "[encoded data removed]",
      "text/latex": [
       "$\\displaystyle 2.10312320205473 \\cdot 10^{-30}$"
      ],
      "text/plain": [
       "2.10312320205473e-30"
      ]
     },
     "execution_count": 33,
     "metadata": {},
     "output_type": "execute_result"
    }
   ],
   "source": [
    "sm.Product(p, (k, 1, 100)).evalf()"
   ]
  },
  {
   "cell_type": "markdown",
   "metadata": {},
   "source": [
    "### Graphs"
   ]
  },
  {
   "cell_type": "code",
   "execution_count": 2,
   "metadata": {},
   "outputs": [],
   "source": [
    "import matplotlib\n",
    "import matplotlib.pyplot as plt\n",
    "import numpy as np"
   ]
  },
  {
   "cell_type": "code",
   "execution_count": 55,
   "metadata": {},
   "outputs": [],
   "source": [
    "matplotlib.rcParams.update({'axes.facecolor': 'white', \n",
    "                            'axes.labelcolor': 'darkslategray', \n",
    "                            'axes.titlecolor': 'darkslategray', \n",
    "                            'text.color': 'darkslategray',\n",
    "                            'font.size': '15', \n",
    "                            'figure.titleweight':'heavy',\n",
    "                            'grid.linestyle': 'dashed',\n",
    "                            'legend.fontsize': '15',\n",
    "                            'legend.loc': 'lower left'})"
   ]
  },
  {
   "cell_type": "code",
   "execution_count": 56,
   "metadata": {},
   "outputs": [],
   "source": [
    "x = np.linspace(-2, 3, 1000)\n",
    "f = -np.exp(-(x - 0.7)**2)"
   ]
  },
  {
   "cell_type": "code",
   "execution_count": 57,
   "metadata": {},
   "outputs": [
    {
     "data": {
      "image/png": "[encoded data removed]",
      "text/plain": [
       "<Figure size 432x288 with 1 Axes>"
      ]
     },
     "metadata": {
      "needs_background": "light"
     },
     "output_type": "display_data"
    }
   ],
   "source": [
    "fig, ax = plt.subplots()\n",
    "\n",
    "ax.plot(x, f, label = r'${e^{-(x - 0.7)}}^2$')\n",
    "ax.set_xlabel('$x$')\n",
    "ax.set_ylabel('$y$')\n",
    "ax.legend()\n",
    "ax.grid(True)\n",
    "plt.title('First graph')\n",
    "plt.show()"
   ]
  },
  {
   "cell_type": "code",
   "execution_count": 38,
   "metadata": {},
   "outputs": [
    {
     "data": {
      "text/plain": [
       "KeysView(RcParams({'_internal.classic_mode': False,\n",
       "          'agg.path.chunksize': 0,\n",
       "          'animation.avconv_args': [],\n",
       "          'animation.avconv_path': 'avconv',\n",
       "          'animation.bitrate': -1,\n",
       "          'animation.codec': 'h264',\n",
       "          'animation.convert_args': [],\n",
       "          'animation.convert_path': 'convert',\n",
       "          'animation.embed_limit': 20.0,\n",
       "          'animation.ffmpeg_args': [],\n",
       "          'animation.ffmpeg_path': 'ffmpeg',\n",
       "          'animation.frame_format': 'png',\n",
       "          'animation.html': 'none',\n",
       "          'animation.html_args': [],\n",
       "          'animation.writer': 'ffmpeg',\n",
       "          'axes.autolimit_mode': 'data',\n",
       "          'axes.axisbelow': 'line',\n",
       "          'axes.edgecolor': 'black',\n",
       "          'axes.facecolor': 'white',\n",
       "          'axes.formatter.limits': [-5, 6],\n",
       "          'axes.formatter.min_exponent': 0,\n",
       "          'axes.formatter.offset_threshold': 4,\n",
       "          'axes.formatter.use_locale': False,\n",
       "          'axes.formatter.use_mathtext': False,\n",
       "          'axes.formatter.useoffset': True,\n",
       "          'axes.grid': False,\n",
       "          'axes.grid.axis': 'both',\n",
       "          'axes.grid.which': 'major',\n",
       "          'axes.labelcolor': 'darkslategray',\n",
       "          'axes.labelpad': 4.0,\n",
       "          'axes.labelsize': 'medium',\n",
       "          'axes.labelweight': 'normal',\n",
       "          'axes.linewidth': 0.8,\n",
       "          'axes.prop_cycle': cycler('color', ['#1f77b4', '#ff7f0e', '#2ca02c', '#d62728', '#9467bd', '#8c564b', '#e377c2', '#7f7f7f', '#bcbd22', '#17becf']),\n",
       "          'axes.spines.bottom': True,\n",
       "          'axes.spines.left': True,\n",
       "          'axes.spines.right': True,\n",
       "          'axes.spines.top': True,\n",
       "          'axes.titlecolor': 'darkslategray',\n",
       "          'axes.titlelocation': 'center',\n",
       "          'axes.titlepad': 6.0,\n",
       "          'axes.titlesize': 'large',\n",
       "          'axes.titleweight': 'normal',\n",
       "          'axes.titley': None,\n",
       "          'axes.unicode_minus': True,\n",
       "          'axes.xmargin': 0.05,\n",
       "          'axes.ymargin': 0.05,\n",
       "          'axes3d.grid': True,\n",
       "          'backend': 'module://ipykernel.pylab.backend_inline',\n",
       "          'backend_fallback': True,\n",
       "          'boxplot.bootstrap': None,\n",
       "          'boxplot.boxprops.color': 'black',\n",
       "          'boxplot.boxprops.linestyle': '-',\n",
       "          'boxplot.boxprops.linewidth': 1.0,\n",
       "          'boxplot.capprops.color': 'black',\n",
       "          'boxplot.capprops.linestyle': '-',\n",
       "          'boxplot.capprops.linewidth': 1.0,\n",
       "          'boxplot.flierprops.color': 'black',\n",
       "          'boxplot.flierprops.linestyle': 'none',\n",
       "          'boxplot.flierprops.linewidth': 1.0,\n",
       "          'boxplot.flierprops.marker': 'o',\n",
       "          'boxplot.flierprops.markeredgecolor': 'black',\n",
       "          'boxplot.flierprops.markeredgewidth': 1.0,\n",
       "          'boxplot.flierprops.markerfacecolor': 'none',\n",
       "          'boxplot.flierprops.markersize': 6.0,\n",
       "          'boxplot.meanline': False,\n",
       "          'boxplot.meanprops.color': 'C2',\n",
       "          'boxplot.meanprops.linestyle': '--',\n",
       "          'boxplot.meanprops.linewidth': 1.0,\n",
       "          'boxplot.meanprops.marker': '^',\n",
       "          'boxplot.meanprops.markeredgecolor': 'C2',\n",
       "          'boxplot.meanprops.markerfacecolor': 'C2',\n",
       "          'boxplot.meanprops.markersize': 6.0,\n",
       "          'boxplot.medianprops.color': 'C1',\n",
       "          'boxplot.medianprops.linestyle': '-',\n",
       "          'boxplot.medianprops.linewidth': 1.0,\n",
       "          'boxplot.notch': False,\n",
       "          'boxplot.patchartist': False,\n",
       "          'boxplot.showbox': True,\n",
       "          'boxplot.showcaps': True,\n",
       "          'boxplot.showfliers': True,\n",
       "          'boxplot.showmeans': False,\n",
       "          'boxplot.vertical': True,\n",
       "          'boxplot.whiskerprops.color': 'black',\n",
       "          'boxplot.whiskerprops.linestyle': '-',\n",
       "          'boxplot.whiskerprops.linewidth': 1.0,\n",
       "          'boxplot.whiskers': 1.5,\n",
       "          'contour.corner_mask': True,\n",
       "          'contour.linewidth': None,\n",
       "          'contour.negative_linestyle': 'dashed',\n",
       "          'date.autoformatter.day': '%Y-%m-%d',\n",
       "          'date.autoformatter.hour': '%m-%d %H',\n",
       "          'date.autoformatter.microsecond': '%M:%S.%f',\n",
       "          'date.autoformatter.minute': '%d %H:%M',\n",
       "          'date.autoformatter.month': '%Y-%m',\n",
       "          'date.autoformatter.second': '%H:%M:%S',\n",
       "          'date.autoformatter.year': '%Y',\n",
       "          'date.epoch': '1970-01-01T00:00:00',\n",
       "          'docstring.hardcopy': False,\n",
       "          'errorbar.capsize': 0.0,\n",
       "          'figure.autolayout': False,\n",
       "          'figure.constrained_layout.h_pad': 0.04167,\n",
       "          'figure.constrained_layout.hspace': 0.02,\n",
       "          'figure.constrained_layout.use': False,\n",
       "          'figure.constrained_layout.w_pad': 0.04167,\n",
       "          'figure.constrained_layout.wspace': 0.02,\n",
       "          'figure.dpi': 72.0,\n",
       "          'figure.edgecolor': (1, 1, 1, 0),\n",
       "          'figure.facecolor': (1, 1, 1, 0),\n",
       "          'figure.figsize': [6.0, 4.0],\n",
       "          'figure.frameon': True,\n",
       "          'figure.max_open_warning': 20,\n",
       "          'figure.raise_window': True,\n",
       "          'figure.subplot.bottom': 0.125,\n",
       "          'figure.subplot.hspace': 0.2,\n",
       "          'figure.subplot.left': 0.125,\n",
       "          'figure.subplot.right': 0.9,\n",
       "          'figure.subplot.top': 0.88,\n",
       "          'figure.subplot.wspace': 0.2,\n",
       "          'figure.titlesize': 'large',\n",
       "          'figure.titleweight': 'heavy',\n",
       "          'font.cursive': ['Apple Chancery',\n",
       "                           'Textile',\n",
       "                           'Zapf Chancery',\n",
       "                           'Sand',\n",
       "                           'Script MT',\n",
       "                           'Felipa',\n",
       "                           'cursive'],\n",
       "          'font.family': ['sans-serif'],\n",
       "          'font.fantasy': ['Comic Neue',\n",
       "                           'Comic Sans MS',\n",
       "                           'Chicago',\n",
       "                           'Charcoal',\n",
       "                           'ImpactWestern',\n",
       "                           'Humor Sans',\n",
       "                           'xkcd',\n",
       "                           'fantasy'],\n",
       "          'font.monospace': ['DejaVu Sans Mono',\n",
       "                             'Bitstream Vera Sans Mono',\n",
       "                             'Computer Modern Typewriter',\n",
       "                             'Andale Mono',\n",
       "                             'Nimbus Mono L',\n",
       "                             'Courier New',\n",
       "                             'Courier',\n",
       "                             'Fixed',\n",
       "                             'Terminal',\n",
       "                             'monospace'],\n",
       "          'font.sans-serif': ['DejaVu Sans',\n",
       "                              'Bitstream Vera Sans',\n",
       "                              'Computer Modern Sans Serif',\n",
       "                              'Lucida Grande',\n",
       "                              'Verdana',\n",
       "                              'Geneva',\n",
       "                              'Lucid',\n",
       "                              'Arial',\n",
       "                              'Helvetica',\n",
       "                              'Avant Garde',\n",
       "                              'sans-serif'],\n",
       "          'font.serif': ['DejaVu Serif',\n",
       "                         'Bitstream Vera Serif',\n",
       "                         'Computer Modern Roman',\n",
       "                         'New Century Schoolbook',\n",
       "                         'Century Schoolbook L',\n",
       "                         'Utopia',\n",
       "                         'ITC Bookman',\n",
       "                         'Bookman',\n",
       "                         'Nimbus Roman No9 L',\n",
       "                         'Times New Roman',\n",
       "                         'Times',\n",
       "                         'Palatino',\n",
       "                         'Charter',\n",
       "                         'serif'],\n",
       "          'font.size': 15.0,\n",
       "          'font.stretch': 'normal',\n",
       "          'font.style': 'normal',\n",
       "          'font.variant': 'normal',\n",
       "          'font.weight': 'normal',\n",
       "          'grid.alpha': 1.0,\n",
       "          'grid.color': '#b0b0b0',\n",
       "          'grid.linestyle': 'dashed',\n",
       "          'grid.linewidth': 0.8,\n",
       "          'hatch.color': 'black',\n",
       "          'hatch.linewidth': 1.0,\n",
       "          'hist.bins': 10,\n",
       "          'image.aspect': 'equal',\n",
       "          'image.cmap': 'viridis',\n",
       "          'image.composite_image': True,\n",
       "          'image.interpolation': 'antialiased',\n",
       "          'image.lut': 256,\n",
       "          'image.origin': 'upper',\n",
       "          'image.resample': True,\n",
       "          'interactive': True,\n",
       "          'keymap.all_axes': ['a'],\n",
       "          'keymap.back': ['left', 'c', 'backspace', 'MouseButton.BACK'],\n",
       "          'keymap.copy': ['ctrl+c', 'cmd+c'],\n",
       "          'keymap.forward': ['right', 'v', 'MouseButton.FORWARD'],\n",
       "          'keymap.fullscreen': ['f', 'ctrl+f'],\n",
       "          'keymap.grid': ['g'],\n",
       "          'keymap.grid_minor': ['G'],\n",
       "          'keymap.help': ['f1'],\n",
       "          'keymap.home': ['h', 'r', 'home'],\n",
       "          'keymap.pan': ['p'],\n",
       "          'keymap.quit': ['ctrl+w', 'cmd+w', 'q'],\n",
       "          'keymap.quit_all': [],\n",
       "          'keymap.save': ['s', 'ctrl+s'],\n",
       "          'keymap.xscale': ['k', 'L'],\n",
       "          'keymap.yscale': ['l'],\n",
       "          'keymap.zoom': ['o'],\n",
       "          'legend.borderaxespad': 0.5,\n",
       "          'legend.borderpad': 0.4,\n",
       "          'legend.columnspacing': 2.0,\n",
       "          'legend.edgecolor': '0.8',\n",
       "          'legend.facecolor': 'inherit',\n",
       "          'legend.fancybox': True,\n",
       "          'legend.fontsize': 15.0,\n",
       "          'legend.framealpha': 0.8,\n",
       "          'legend.frameon': True,\n",
       "          'legend.handleheight': 0.7,\n",
       "          'legend.handlelength': 2.0,\n",
       "          'legend.handletextpad': 0.8,\n",
       "          'legend.labelspacing': 0.5,\n",
       "          'legend.loc': 'lower left',\n",
       "          'legend.markerscale': 1.0,\n",
       "          'legend.numpoints': 1,\n",
       "          'legend.scatterpoints': 1,\n",
       "          'legend.shadow': False,\n",
       "          'legend.title_fontsize': None,\n",
       "          'lines.antialiased': True,\n",
       "          'lines.color': 'C0',\n",
       "          'lines.dash_capstyle': 'butt',\n",
       "          'lines.dash_joinstyle': 'round',\n",
       "          'lines.dashdot_pattern': [6.4, 1.6, 1.0, 1.6],\n",
       "          'lines.dashed_pattern': [3.7, 1.6],\n",
       "          'lines.dotted_pattern': [1.0, 1.65],\n",
       "          'lines.linestyle': '-',\n",
       "          'lines.linewidth': 1.5,\n",
       "          'lines.marker': 'None',\n",
       "          'lines.markeredgecolor': 'auto',\n",
       "          'lines.markeredgewidth': 1.0,\n",
       "          'lines.markerfacecolor': 'auto',\n",
       "          'lines.markersize': 6.0,\n",
       "          'lines.scale_dashes': True,\n",
       "          'lines.solid_capstyle': 'projecting',\n",
       "          'lines.solid_joinstyle': 'round',\n",
       "          'markers.fillstyle': 'full',\n",
       "          'mathtext.bf': 'sans:bold',\n",
       "          'mathtext.cal': 'cursive',\n",
       "          'mathtext.default': 'it',\n",
       "          'mathtext.fallback': 'cm',\n",
       "          'mathtext.fallback_to_cm': None,\n",
       "          'mathtext.fontset': 'dejavusans',\n",
       "          'mathtext.it': 'sans:italic',\n",
       "          'mathtext.rm': 'sans',\n",
       "          'mathtext.sf': 'sans',\n",
       "          'mathtext.tt': 'monospace',\n",
       "          'mpl_toolkits.legacy_colorbar': True,\n",
       "          'patch.antialiased': True,\n",
       "          'patch.edgecolor': 'black',\n",
       "          'patch.facecolor': 'C0',\n",
       "          'patch.force_edgecolor': False,\n",
       "          'patch.linewidth': 1.0,\n",
       "          'path.effects': [],\n",
       "          'path.simplify': True,\n",
       "          'path.simplify_threshold': 0.111111111111,\n",
       "          'path.sketch': None,\n",
       "          'path.snap': True,\n",
       "          'pcolor.shading': 'flat',\n",
       "          'pdf.compression': 6,\n",
       "          'pdf.fonttype': 3,\n",
       "          'pdf.inheritcolor': False,\n",
       "          'pdf.use14corefonts': False,\n",
       "          'pgf.preamble': '',\n",
       "          'pgf.rcfonts': True,\n",
       "          'pgf.texsystem': 'xelatex',\n",
       "          'polaraxes.grid': True,\n",
       "          'ps.distiller.res': 6000,\n",
       "          'ps.fonttype': 3,\n",
       "          'ps.papersize': 'letter',\n",
       "          'ps.useafm': False,\n",
       "          'ps.usedistiller': None,\n",
       "          'savefig.bbox': None,\n",
       "          'savefig.directory': '~',\n",
       "          'savefig.dpi': 'figure',\n",
       "          'savefig.edgecolor': 'auto',\n",
       "          'savefig.facecolor': 'auto',\n",
       "          'savefig.format': 'png',\n",
       "          'savefig.jpeg_quality': 95,\n",
       "          'savefig.orientation': 'portrait',\n",
       "          'savefig.pad_inches': 0.1,\n",
       "          'savefig.transparent': False,\n",
       "          'scatter.edgecolors': 'face',\n",
       "          'scatter.marker': 'o',\n",
       "          'svg.fonttype': 'path',\n",
       "          'svg.hashsalt': None,\n",
       "          'svg.image_inline': True,\n",
       "          'text.antialiased': True,\n",
       "          'text.color': 'darkslategray',\n",
       "          'text.hinting': 'force_autohint',\n",
       "          'text.hinting_factor': 8,\n",
       "          'text.kerning_factor': 0,\n",
       "          'text.latex.preamble': '',\n",
       "          'text.latex.preview': False,\n",
       "          'text.usetex': False,\n",
       "          'timezone': 'UTC',\n",
       "          'tk.window_focus': False,\n",
       "          'toolbar': 'toolbar2',\n",
       "          'webagg.address': '127.0.0.1',\n",
       "          'webagg.open_in_browser': True,\n",
       "          'webagg.port': 8988,\n",
       "          'webagg.port_retries': 50,\n",
       "          'xaxis.labellocation': 'center',\n",
       "          'xtick.alignment': 'center',\n",
       "          'xtick.bottom': True,\n",
       "          'xtick.color': 'black',\n",
       "          'xtick.direction': 'out',\n",
       "          'xtick.labelbottom': True,\n",
       "          'xtick.labelsize': 'medium',\n",
       "          'xtick.labeltop': False,\n",
       "          'xtick.major.bottom': True,\n",
       "          'xtick.major.pad': 3.5,\n",
       "          'xtick.major.size': 3.5,\n",
       "          'xtick.major.top': True,\n",
       "          'xtick.major.width': 0.8,\n",
       "          'xtick.minor.bottom': True,\n",
       "          'xtick.minor.pad': 3.4,\n",
       "          'xtick.minor.size': 2.0,\n",
       "          'xtick.minor.top': True,\n",
       "          'xtick.minor.visible': False,\n",
       "          'xtick.minor.width': 0.6,\n",
       "          'xtick.top': False,\n",
       "          'yaxis.labellocation': 'center',\n",
       "          'ytick.alignment': 'center_baseline',\n",
       "          'ytick.color': 'black',\n",
       "          'ytick.direction': 'out',\n",
       "          'ytick.labelleft': True,\n",
       "          'ytick.labelright': False,\n",
       "          'ytick.labelsize': 'medium',\n",
       "          'ytick.left': True,\n",
       "          'ytick.major.left': True,\n",
       "          'ytick.major.pad': 3.5,\n",
       "          'ytick.major.right': True,\n",
       "          'ytick.major.size': 3.5,\n",
       "          'ytick.major.width': 0.8,\n",
       "          'ytick.minor.left': True,\n",
       "          'ytick.minor.pad': 3.4,\n",
       "          'ytick.minor.right': True,\n",
       "          'ytick.minor.size': 2.0,\n",
       "          'ytick.minor.visible': False,\n",
       "          'ytick.minor.width': 0.6,\n",
       "          'ytick.right': False}))"
      ]
     },
     "execution_count": 38,
     "metadata": {},
     "output_type": "execute_result"
    }
   ],
   "source": [
    "plt.rcParams.keys()"
   ]
  },
  {
   "cell_type": "code",
   "execution_count": 16,
   "metadata": {},
   "outputs": [],
   "source": [
    "x = np.linspace(-10, 10, 1000)\n",
    "y = np.linspace(-10, 10, 1000)\n",
    "\n",
    "z = np.sin(np.sqrt(x**2 + y**2))/np.sqrt(x**2 + y**2 + 0.1)"
   ]
  },
  {
   "cell_type": "code",
   "execution_count": 65,
   "metadata": {},
   "outputs": [
    {
     "data": {
      "image/png": "[encoded data removed]",
      "text/plain": [
       "<Figure size 432x288 with 1 Axes>"
      ]
     },
     "metadata": {
      "needs_background": "light"
     },
     "output_type": "display_data"
    }
   ],
   "source": [
    "fig, ax = plt.subplots()\n",
    "\n",
    "ax.plot(x, z)\n",
    "ax.set_xlabel('$x$')\n",
    "ax.set_ylabel('$y$')\n",
    "ax.grid(True)\n",
    "plt.title('Second graph')\n",
    "plt.show()"
   ]
  },
  {
   "cell_type": "code",
   "execution_count": 81,
   "metadata": {},
   "outputs": [],
   "source": [
    "x = sm.Symbol(\"x\")\n",
    "f = -sm.exp(-(x - 0.7)**2)\n",
    "f_diff = sm.diff(f, x)\n",
    "x_min = sm.solve(f_diff, x)"
   ]
  },
  {
   "cell_type": "code",
   "execution_count": 82,
   "metadata": {},
   "outputs": [],
   "source": [
    "x = np.linspace(-10, 10, 1000)\n",
    "y = -(1.4-2*x)*np.e**(-(x-0.7)**2)"
   ]
  },
  {
   "cell_type": "code",
   "execution_count": 72,
   "metadata": {},
   "outputs": [
    {
     "data": {
      "image/png": "[encoded data removed]",
      "text/plain": [
       "<Figure size 432x288 with 1 Axes>"
      ]
     },
     "metadata": {
      "needs_background": "light"
     },
     "output_type": "display_data"
    }
   ],
   "source": [
    "fig, ax = plt.subplots()\n",
    "\n",
    "ax.plot(x, y)\n",
    "ax.set_xlabel('$x$')\n",
    "ax.set_ylabel('$y$')\n",
    "ax.grid(True)\n",
    "plt.title('derivative')\n",
    "plt.show()"
   ]
  },
  {
   "cell_type": "markdown",
   "metadata": {},
   "source": [
    "As you can see on the graph, x_min is minimum of function"
   ]
  },
  {
   "cell_type": "code",
   "execution_count": null,
   "metadata": {},
   "outputs": [],
   "source": []
  }
 ],
 "metadata": {
  "kernelspec": {
   "display_name": "Python 3",
   "language": "python",
   "name": "python3"
  },
  "language_info": {
   "codemirror_mode": {
    "name": "ipython",
    "version": 3
   },
   "file_extension": ".py",
   "mimetype": "text/x-python",
   "name": "python",
   "nbconvert_exporter": "python",
   "pygments_lexer": "ipython3",
   "version": "3.8.5"
  }
 },
 "nbformat": 4,
 "nbformat_minor": 4
}
